{
  "nbformat": 4,
  "nbformat_minor": 0,
  "metadata": {
    "colab": {
      "name": "MSaprioriBagOfWords.ipynb",
      "provenance": []
    },
    "kernelspec": {
      "name": "python3",
      "display_name": "Python 3"
    }
  },
  "cells": [
    {
      "cell_type": "code",
      "metadata": {
        "id": "b-LdDkwJjf3l",
        "colab_type": "code",
        "colab": {}
      },
      "source": [
        "import pandas as pd\n",
        "import numpy as np\n",
        "import itertools\n",
        "import os\n",
        "os.chdir(\"/content/drive/My Drive/DMML Assignment\")\n"
      ],
      "execution_count": 0,
      "outputs": []
    },
    {
      "cell_type": "code",
      "metadata": {
        "id": "rSE3vjq9jqHv",
        "colab_type": "code",
        "outputId": "4a62c0ae-a164-4f6a-c620-86b2986625bc",
        "colab": {
          "base_uri": "https://localhost:8080/",
          "height": 73
        }
      },
      "source": [
        "ls"
      ],
      "execution_count": 2,
      "outputs": [
        {
          "output_type": "stream",
          "text": [
            "docword.enron.txt  kos_.txt    vocab.enron.txt\n",
            "docword.kos.txt    nips_.txt   vocab.kos.txt\n",
            "docword.nips.txt   output.txt  vocab.nips.txt\n"
          ],
          "name": "stdout"
        }
      ]
    },
    {
      "cell_type": "code",
      "metadata": {
        "id": "8coPvMSXjqzp",
        "colab_type": "code",
        "colab": {}
      },
      "source": [
        "def get_transactions(data):\n",
        "    data=pd.read_csv(data,sep=\" \",skiprows=3,header=None)\n",
        "    data.columns=['doc_id','word_id','occurences']\n",
        "    data.drop('occurences',axis=1)\n",
        "    data=data.groupby('doc_id')['word_id'].apply(tuple)\n",
        "    return list(data)\n",
        "\n",
        "   \n"
      ],
      "execution_count": 0,
      "outputs": []
    },
    {
      "cell_type": "code",
      "metadata": {
        "id": "FuNRYo5WmsKf",
        "colab_type": "code",
        "colab": {}
      },
      "source": [
        "def get_MS(data,alpha,L):\n",
        "  \n",
        "  support={}\n",
        "  for t in data:\n",
        "    for i in t:\n",
        "      support[i]=(support.get(i,0)+1)\n",
        "  \n",
        "  MS ={k: max(L,(v*alpha)/len(data)) for k, v in support.items()}\n",
        "  return MS\n",
        "\n"
      ],
      "execution_count": 0,
      "outputs": []
    },
    {
      "cell_type": "code",
      "metadata": {
        "id": "JwFsdwxsoXhV",
        "colab_type": "code",
        "colab": {}
      },
      "source": [
        "def init_pass(M,T):\n",
        "    L = []\n",
        "    for t in T:\n",
        "        for i in t:\n",
        "            sup_count[i] = sup_count.get(i,0)+1\n",
        "    smallest_sup=0.095\n",
        "    for m in M:\n",
        "        if smallest_sup:\n",
        "            if  MS[m] > smallest_sup:\n",
        "               L.append(m)\n",
        "        #elif m in sup_count and sup_count[m]/n >= MS[m]:\n",
        "         #   L.append(m)\n",
        "          #  smallest_sup = MS[m]\n",
        "    #print(smallest_sup)\n",
        "\n",
        "    return L\n"
      ],
      "execution_count": 0,
      "outputs": []
    },
    {
      "cell_type": "code",
      "metadata": {
        "id": "deC_5ttsoXcm",
        "colab_type": "code",
        "colab": {}
      },
      "source": [
        "def level2_candidate_gen(L,phi):\n",
        "    c = []\n",
        "    for i,l in enumerate(L):\n",
        "        if sup_count[l]/n >= MS[l]:\n",
        "            for j in range (i+1,len(L)):\n",
        "                if sup_count[L[j]]/n > MS[l] and abs(sup_count[L[j]]/n - sup_count[l]/n) <= phi:\n",
        "                    c.append({'c':[l, L[j]],'count':0})\n",
        "    return c"
      ],
      "execution_count": 0,
      "outputs": []
    },
    {
      "cell_type": "code",
      "metadata": {
        "id": "x4jz6wgKqK9-",
        "colab_type": "code",
        "colab": {}
      },
      "source": [
        "def MScandidate_gen(F, k, phi):\n",
        "    c = []\n",
        "    for index,f1 in enumerate(F):\n",
        "        for j,f2 in enumerate(F[index+1:]):\n",
        "            if set(f1[:-1]) == set(f2[:-1]) and abs(sup_count[f2[k-2]]/n - sup_count[f1[k-2]]/n) <= phi: \n",
        "                candidate = list(f1)\n",
        "                candidate.append(f2[k-2])\n",
        "                delete = False\n",
        "                for s in list(itertools.combinations(candidate, k-1)):\n",
        "                    if candidate[0] in s or MS[candidate[0]] == MS[candidate[1]]:\n",
        "                        if list(s) not in F:\n",
        "                            delete = True\n",
        "                if not delete:\n",
        "                    c.append({'c':candidate,'count':0})\n",
        "    return c"
      ],
      "execution_count": 0,
      "outputs": []
    },
    {
      "cell_type": "code",
      "metadata": {
        "id": "BVNEmcAdoYSM",
        "colab_type": "code",
        "colab": {}
      },
      "source": [
        "\n",
        "T=get_transactions('docword.kos.txt')\n",
        "MS=get_MS(T,alpha=0.6,L=0.090)\n",
        "n=float(len(T))\n",
        "F={}\n",
        "sup_count={}\n",
        "C={}\n",
        "M=[]\n",
        "for item, mis in sorted (MS.items(),key= lambda x:(x[1],int(x[0]))):\n",
        "  M.append(item)\n",
        "L=init_pass(M,T)\n",
        "F[1]=[[L[0]]]\n",
        "for l in L[1:]:\n",
        "  if sup_count[l]/n>=MS[l]:\n",
        "    F[1].append([l])\n",
        "\n",
        "for k in range(2,7):\n",
        "  if k == 2:\n",
        "        C[k] = level2_candidate_gen(L,phi=0.3)\n",
        "  else:\n",
        "        C[k] = MScandidate_gen(F[k-1],k,phi=0.3)\n",
        "\n",
        "  for c in C[k]:\n",
        "        sub_found = False\n",
        "        sub_count = True\n",
        "        if k > 2:\n",
        "            for c1 in C[k-1]:\n",
        "                if set(c['c'][1:]) == set(c1['c']):\n",
        "                    sub_found == True\n",
        "                    if c1['count'] != 0:\n",
        "                        sub_count = False\n",
        "            if sub_count and not sub_found:\n",
        "                C[k-1].append({'c':c['c'][1:], 'count':0})\n",
        "        for t in T:\n",
        "            if set(c['c']).issubset(t):\n",
        "                c['count']+=1\n",
        "            if k > 2 and sub_count:\n",
        "                if set(c['c'][1:]).issubset(t):\n",
        "                    C[k-1][-1]['count'] +=1\n",
        "\n",
        "  if not C[k]:\n",
        "    break\n",
        "\n",
        "  F[k] = []\n",
        "  for c in C[k]:\n",
        "      if c['count']/n >= MS[c['c'][0]]:\n",
        "          F[k].append(c['c'])\n",
        "\n",
        "  if len(F[k]) < 2:\n",
        "      break\n",
        "\n"
      ],
      "execution_count": 0,
      "outputs": []
    },
    {
      "cell_type": "code",
      "metadata": {
        "id": "jOQRGqNyPtN-",
        "colab_type": "code",
        "colab": {}
      },
      "source": [
        "def word_id_to_word(fset,vocabfile):\n",
        "  wl=pd.read_csv(vocabfile,sep=\" \",header=None)\n",
        "  vocablist=wl[0].tolist()\n",
        "  for key,value in fset.items():\n",
        "    temp_1=[]\n",
        "    for itemset in value:\n",
        "      temp_2=[]\n",
        "      for word_id in itemset:\n",
        "        temp_2.append(vocablist[word_id - 1])\n",
        "      temp_1.append(temp_2)\n",
        "    fset[key]=temp_1\n",
        "  return fset\n",
        "    \n"
      ],
      "execution_count": 0,
      "outputs": []
    },
    {
      "cell_type": "code",
      "metadata": {
        "id": "HdPSCzl-HaGM",
        "colab_type": "code",
        "colab": {}
      },
      "source": [
        "F_=F.copy()"
      ],
      "execution_count": 0,
      "outputs": []
    },
    {
      "cell_type": "code",
      "metadata": {
        "id": "yXSb3hNY3UEz",
        "colab_type": "code",
        "colab": {}
      },
      "source": [
        "output=word_id_to_word(F_,'vocab.kos.txt')"
      ],
      "execution_count": 0,
      "outputs": []
    },
    {
      "cell_type": "code",
      "metadata": {
        "id": "HNWf4pR2_JDQ",
        "colab_type": "code",
        "colab": {
          "base_uri": "https://localhost:8080/",
          "height": 1000
        },
        "outputId": "a9c4bb79-ac4c-43db-eec0-cfa7ee209c78"
      },
      "source": [
        "output"
      ],
      "execution_count": 13,
      "outputs": [
        {
          "output_type": "execute_result",
          "data": {
            "text/plain": [
              "{1: [['gop'],\n",
              "  ['candidate'],\n",
              "  ['races'],\n",
              "  ['american'],\n",
              "  ['years'],\n",
              "  ['win'],\n",
              "  ['lead'],\n",
              "  ['november'],\n",
              "  ['voters'],\n",
              "  ['oct'],\n",
              "  ['party'],\n",
              "  ['bushs'],\n",
              "  ['national'],\n",
              "  ['states'],\n",
              "  ['race'],\n",
              "  ['news'],\n",
              "  ['vote'],\n",
              "  ['political'],\n",
              "  ['administration'],\n",
              "  ['john'],\n",
              "  ['republican'],\n",
              "  ['elections'],\n",
              "  ['iraq'],\n",
              "  ['state'],\n",
              "  ['polls'],\n",
              "  ['campaign'],\n",
              "  ['senate'],\n",
              "  ['president'],\n",
              "  ['people'],\n",
              "  ['primary'],\n",
              "  ['media'],\n",
              "  ['election'],\n",
              "  ['republicans'],\n",
              "  ['democrats'],\n",
              "  ['time'],\n",
              "  ['house'],\n",
              "  ['poll'],\n",
              "  ['war'],\n",
              "  ['democratic'],\n",
              "  ['kerry'],\n",
              "  ['general'],\n",
              "  ['bush']],\n",
              " 2: [['candidate', 'democratic'],\n",
              "  ['races', 'november'],\n",
              "  ['races', 'polls'],\n",
              "  ['races', 'senate'],\n",
              "  ['races', 'primary'],\n",
              "  ['races', 'media'],\n",
              "  ['races', 'election'],\n",
              "  ['races', 'republicans'],\n",
              "  ['races', 'democrats'],\n",
              "  ['races', 'house'],\n",
              "  ['races', 'poll'],\n",
              "  ['races', 'war'],\n",
              "  ['races', 'democratic'],\n",
              "  ['win', 'democratic'],\n",
              "  ['lead', 'polls'],\n",
              "  ['lead', 'poll'],\n",
              "  ['lead', 'democratic'],\n",
              "  ['lead', 'kerry'],\n",
              "  ['november', 'polls'],\n",
              "  ['november', 'senate'],\n",
              "  ['november', 'primary'],\n",
              "  ['november', 'media'],\n",
              "  ['november', 'election'],\n",
              "  ['november', 'republicans'],\n",
              "  ['november', 'democrats'],\n",
              "  ['november', 'house'],\n",
              "  ['november', 'poll'],\n",
              "  ['november', 'war'],\n",
              "  ['november', 'democratic'],\n",
              "  ['november', 'kerry'],\n",
              "  ['november', 'general'],\n",
              "  ['voters', 'poll'],\n",
              "  ['voters', 'kerry'],\n",
              "  ['voters', 'general'],\n",
              "  ['party', 'democratic'],\n",
              "  ['vote', 'democratic'],\n",
              "  ['vote', 'kerry'],\n",
              "  ['vote', 'general'],\n",
              "  ['john', 'kerry'],\n",
              "  ['elections', 'house'],\n",
              "  ['iraq', 'war'],\n",
              "  ['polls', 'poll'],\n",
              "  ['polls', 'democratic'],\n",
              "  ['polls', 'kerry'],\n",
              "  ['polls', 'general'],\n",
              "  ['senate', 'house'],\n",
              "  ['senate', 'democratic'],\n",
              "  ['primary', 'poll'],\n",
              "  ['primary', 'democratic'],\n",
              "  ['primary', 'kerry'],\n",
              "  ['media', 'kerry'],\n",
              "  ['election', 'democratic'],\n",
              "  ['election', 'kerry'],\n",
              "  ['election', 'general'],\n",
              "  ['republicans', 'democrats'],\n",
              "  ['republicans', 'democratic'],\n",
              "  ['republicans', 'general'],\n",
              "  ['democrats', 'democratic'],\n",
              "  ['democrats', 'kerry'],\n",
              "  ['house', 'bush'],\n",
              "  ['poll', 'democratic'],\n",
              "  ['poll', 'kerry'],\n",
              "  ['poll', 'general'],\n",
              "  ['poll', 'bush'],\n",
              "  ['war', 'bush'],\n",
              "  ['democratic', 'kerry'],\n",
              "  ['democratic', 'bush'],\n",
              "  ['kerry', 'general'],\n",
              "  ['kerry', 'bush'],\n",
              "  ['general', 'bush']],\n",
              " 3: [['races', 'november', 'senate'],\n",
              "  ['races', 'november', 'primary'],\n",
              "  ['races', 'november', 'republicans'],\n",
              "  ['races', 'november', 'democrats'],\n",
              "  ['races', 'november', 'house'],\n",
              "  ['races', 'november', 'poll'],\n",
              "  ['races', 'november', 'democratic'],\n",
              "  ['races', 'polls', 'senate'],\n",
              "  ['races', 'polls', 'republicans'],\n",
              "  ['races', 'polls', 'democrats'],\n",
              "  ['races', 'polls', 'house'],\n",
              "  ['races', 'polls', 'poll'],\n",
              "  ['races', 'polls', 'democratic'],\n",
              "  ['races', 'senate', 'primary'],\n",
              "  ['races', 'senate', 'media'],\n",
              "  ['races', 'senate', 'republicans'],\n",
              "  ['races', 'senate', 'democrats'],\n",
              "  ['races', 'senate', 'house'],\n",
              "  ['races', 'senate', 'poll'],\n",
              "  ['races', 'senate', 'war'],\n",
              "  ['races', 'senate', 'democratic'],\n",
              "  ['races', 'primary', 'media'],\n",
              "  ['races', 'primary', 'republicans'],\n",
              "  ['races', 'primary', 'democrats'],\n",
              "  ['races', 'primary', 'house'],\n",
              "  ['races', 'primary', 'poll'],\n",
              "  ['races', 'primary', 'war'],\n",
              "  ['races', 'primary', 'democratic'],\n",
              "  ['races', 'media', 'republicans'],\n",
              "  ['races', 'media', 'democrats'],\n",
              "  ['races', 'media', 'house'],\n",
              "  ['races', 'media', 'war'],\n",
              "  ['races', 'media', 'democratic'],\n",
              "  ['races', 'election', 'house'],\n",
              "  ['races', 'republicans', 'democrats'],\n",
              "  ['races', 'republicans', 'house'],\n",
              "  ['races', 'republicans', 'poll'],\n",
              "  ['races', 'republicans', 'war'],\n",
              "  ['races', 'republicans', 'democratic'],\n",
              "  ['races', 'democrats', 'house'],\n",
              "  ['races', 'democrats', 'poll'],\n",
              "  ['races', 'democrats', 'war'],\n",
              "  ['races', 'democrats', 'democratic'],\n",
              "  ['races', 'house', 'poll'],\n",
              "  ['races', 'house', 'war'],\n",
              "  ['races', 'house', 'democratic'],\n",
              "  ['races', 'poll', 'democratic'],\n",
              "  ['races', 'war', 'democratic'],\n",
              "  ['lead', 'poll', 'kerry'],\n",
              "  ['november', 'senate', 'house'],\n",
              "  ['november', 'senate', 'democratic'],\n",
              "  ['november', 'primary', 'democratic'],\n",
              "  ['november', 'republicans', 'democrats'],\n",
              "  ['november', 'republicans', 'house'],\n",
              "  ['november', 'republicans', 'democratic'],\n",
              "  ['november', 'republicans', 'general'],\n",
              "  ['november', 'democrats', 'house'],\n",
              "  ['november', 'democrats', 'democratic'],\n",
              "  ['november', 'democrats', 'general'],\n",
              "  ['november', 'house', 'democratic'],\n",
              "  ['november', 'house', 'general'],\n",
              "  ['november', 'poll', 'democratic'],\n",
              "  ['november', 'poll', 'general'],\n",
              "  ['november', 'democratic', 'kerry'],\n",
              "  ['november', 'democratic', 'general'],\n",
              "  ['november', 'kerry', 'general'],\n",
              "  ['polls', 'poll', 'kerry'],\n",
              "  ['polls', 'kerry', 'general'],\n",
              "  ['primary', 'democratic', 'kerry']],\n",
              " 4: [['races', 'november', 'republicans', 'house'],\n",
              "  ['races', 'november', 'democrats', 'house'],\n",
              "  ['races', 'november', 'democrats', 'democratic'],\n",
              "  ['races', 'november', 'house', 'democratic'],\n",
              "  ['races', 'polls', 'senate', 'republicans'],\n",
              "  ['races', 'polls', 'senate', 'house'],\n",
              "  ['races', 'polls', 'republicans', 'democrats'],\n",
              "  ['races', 'polls', 'house', 'democratic'],\n",
              "  ['races', 'senate', 'primary', 'republicans'],\n",
              "  ['races', 'senate', 'primary', 'democrats'],\n",
              "  ['races', 'senate', 'primary', 'house'],\n",
              "  ['races', 'senate', 'primary', 'democratic'],\n",
              "  ['races', 'senate', 'media', 'republicans'],\n",
              "  ['races', 'senate', 'media', 'house'],\n",
              "  ['races', 'senate', 'republicans', 'democrats'],\n",
              "  ['races', 'senate', 'republicans', 'house'],\n",
              "  ['races', 'senate', 'republicans', 'poll'],\n",
              "  ['races', 'senate', 'republicans', 'democratic'],\n",
              "  ['races', 'senate', 'democrats', 'house'],\n",
              "  ['races', 'senate', 'democrats', 'poll'],\n",
              "  ['races', 'senate', 'democrats', 'democratic'],\n",
              "  ['races', 'senate', 'house', 'poll'],\n",
              "  ['races', 'senate', 'house', 'war'],\n",
              "  ['races', 'senate', 'house', 'democratic'],\n",
              "  ['races', 'senate', 'poll', 'democratic'],\n",
              "  ['races', 'senate', 'war', 'democratic'],\n",
              "  ['races', 'primary', 'republicans', 'democrats'],\n",
              "  ['races', 'primary', 'republicans', 'house'],\n",
              "  ['races', 'primary', 'republicans', 'democratic'],\n",
              "  ['races', 'primary', 'democrats', 'house'],\n",
              "  ['races', 'primary', 'democrats', 'democratic'],\n",
              "  ['races', 'primary', 'house', 'democratic'],\n",
              "  ['races', 'primary', 'poll', 'democratic'],\n",
              "  ['races', 'media', 'republicans', 'democrats'],\n",
              "  ['races', 'media', 'republicans', 'house'],\n",
              "  ['races', 'media', 'republicans', 'democratic'],\n",
              "  ['races', 'media', 'democrats', 'house'],\n",
              "  ['races', 'media', 'democrats', 'democratic'],\n",
              "  ['races', 'media', 'house', 'war'],\n",
              "  ['races', 'media', 'house', 'democratic'],\n",
              "  ['races', 'republicans', 'democrats', 'house'],\n",
              "  ['races', 'republicans', 'democrats', 'poll'],\n",
              "  ['races', 'republicans', 'democrats', 'war'],\n",
              "  ['races', 'republicans', 'democrats', 'democratic'],\n",
              "  ['races', 'republicans', 'house', 'poll'],\n",
              "  ['races', 'republicans', 'house', 'war'],\n",
              "  ['races', 'republicans', 'house', 'democratic'],\n",
              "  ['races', 'republicans', 'poll', 'democratic'],\n",
              "  ['races', 'republicans', 'war', 'democratic'],\n",
              "  ['races', 'democrats', 'house', 'poll'],\n",
              "  ['races', 'democrats', 'house', 'war'],\n",
              "  ['races', 'democrats', 'house', 'democratic'],\n",
              "  ['races', 'democrats', 'poll', 'democratic'],\n",
              "  ['races', 'democrats', 'war', 'democratic'],\n",
              "  ['races', 'house', 'poll', 'democratic'],\n",
              "  ['races', 'house', 'war', 'democratic']],\n",
              " 5: [['races', 'senate', 'primary', 'republicans', 'democratic'],\n",
              "  ['races', 'senate', 'primary', 'democrats', 'house'],\n",
              "  ['races', 'senate', 'primary', 'democrats', 'democratic'],\n",
              "  ['races', 'senate', 'primary', 'house', 'democratic'],\n",
              "  ['races', 'senate', 'republicans', 'democrats', 'house'],\n",
              "  ['races', 'senate', 'republicans', 'democrats', 'democratic'],\n",
              "  ['races', 'senate', 'republicans', 'house', 'democratic'],\n",
              "  ['races', 'senate', 'democrats', 'house', 'poll'],\n",
              "  ['races', 'senate', 'democrats', 'house', 'democratic'],\n",
              "  ['races', 'senate', 'house', 'poll', 'democratic'],\n",
              "  ['races', 'primary', 'republicans', 'democrats', 'house'],\n",
              "  ['races', 'primary', 'republicans', 'democrats', 'democratic'],\n",
              "  ['races', 'primary', 'republicans', 'house', 'democratic'],\n",
              "  ['races', 'primary', 'democrats', 'house', 'democratic'],\n",
              "  ['races', 'media', 'republicans', 'democrats', 'house'],\n",
              "  ['races', 'media', 'republicans', 'democrats', 'democratic'],\n",
              "  ['races', 'media', 'republicans', 'house', 'democratic'],\n",
              "  ['races', 'media', 'democrats', 'house', 'democratic'],\n",
              "  ['races', 'republicans', 'democrats', 'house', 'poll'],\n",
              "  ['races', 'republicans', 'democrats', 'house', 'democratic'],\n",
              "  ['races', 'republicans', 'democrats', 'poll', 'democratic'],\n",
              "  ['races', 'republicans', 'house', 'poll', 'democratic'],\n",
              "  ['races', 'democrats', 'house', 'poll', 'democratic']],\n",
              " 6: [['races', 'senate', 'republicans', 'democrats', 'house', 'democratic'],\n",
              "  ['races', 'primary', 'republicans', 'democrats', 'house', 'democratic']]}"
            ]
          },
          "metadata": {
            "tags": []
          },
          "execution_count": 13
        }
      ]
    },
    {
      "cell_type": "code",
      "metadata": {
        "id": "CgVqtMRrOW3w",
        "colab_type": "code",
        "colab": {}
      },
      "source": [
        "with open('output.txt', 'w') as file:\n",
        "   file.write(str(output))\n"
      ],
      "execution_count": 0,
      "outputs": []
    },
    {
      "cell_type": "code",
      "metadata": {
        "id": "LhKGNDgpR4hk",
        "colab_type": "code",
        "outputId": "400b1cf5-a498-4e62-c971-db02974c21a5",
        "colab": {
          "base_uri": "https://localhost:8080/",
          "height": 73
        }
      },
      "source": [
        "ls"
      ],
      "execution_count": 0,
      "outputs": [
        {
          "output_type": "stream",
          "text": [
            "docword.enron.txt  kos_.txt    vocab.enron.txt\n",
            "docword.kos.txt    nips_.txt   vocab.kos.txt\n",
            "docword.nips.txt   output.txt  vocab.nips.txt\n"
          ],
          "name": "stdout"
        }
      ]
    },
    {
      "cell_type": "code",
      "metadata": {
        "id": "eaUmf6tuR4kY",
        "colab_type": "code",
        "colab": {}
      },
      "source": [
        ""
      ],
      "execution_count": 0,
      "outputs": []
    },
    {
      "cell_type": "code",
      "metadata": {
        "id": "IIrgIDI7R4e9",
        "colab_type": "code",
        "colab": {}
      },
      "source": [
        ""
      ],
      "execution_count": 0,
      "outputs": []
    }
  ]
}